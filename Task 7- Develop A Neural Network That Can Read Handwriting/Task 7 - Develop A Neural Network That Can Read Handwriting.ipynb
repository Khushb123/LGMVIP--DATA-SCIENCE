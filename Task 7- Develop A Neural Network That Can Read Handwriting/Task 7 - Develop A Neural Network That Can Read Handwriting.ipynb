{
 "cells": [
  {
   "cell_type": "markdown",
   "id": "b9a007ef",
   "metadata": {},
   "source": [
    "### LetsGrowMore(LGMVIP)- \"DATA SCIENCE INTERN \"\n",
    "### LGMVIP April- 2023\n",
    "### AUTHOR - KHUSHBOO SINGH\n",
    "## ADVANCED LEVEL TASK"
   ]
  },
  {
   "cell_type": "markdown",
   "id": "2465d66d",
   "metadata": {},
   "source": [
    "## Task 7: Develop A Neural Network That Can Read Handwriting"
   ]
  },
  {
   "cell_type": "markdown",
   "id": "e468a927",
   "metadata": {},
   "source": [
    "### Business Case: Begin the neural network machine learning project with the MNIST Handwritten Digit Classification Challenge and using Tensorflow and CNN."
   ]
  },
  {
   "cell_type": "code",
   "execution_count": 3,
   "id": "8a8403ba",
   "metadata": {},
   "outputs": [],
   "source": [
    "# Importing necessary libraries\n",
    "import os\n",
    "import tensorflow as tf\n",
    "from tensorflow import keras\n",
    "import numpy as np\n",
    "import pandas as pd\n",
    "import seaborn as sns\n",
    "import matplotlib.pyplot as plt"
   ]
  },
  {
   "cell_type": "code",
   "execution_count": 4,
   "id": "1e408cc2",
   "metadata": {},
   "outputs": [],
   "source": [
    "np.random.seed(0)\n",
    "import random\n",
    "import tensorflow.keras as keras\n",
    "from tensorflow.keras import datasets,layers,models\n",
    "from tensorflow.keras.models import Sequential,load_model\n",
    "from tensorflow.keras.layers import Dense,Dropout,Flatten\n",
    "from tensorflow.keras.layers import Conv2D,MaxPool2D,BatchNormalization\n",
    "from tensorflow.keras import backend as k\n",
    "from tensorflow.keras.utils import to_categorical\n",
    "from tensorflow.keras.datasets import mnist\n",
    "from tensorflow.keras.preprocessing.image import ImageDataGenerator\n",
    "from tensorflow.keras.callbacks import ReduceLROnPlateau,ModelCheckpoint\n",
    "from keras.models import model_from_json\n",
    "from keras.utils.vis_utils import plot_model\n",
    "from sklearn.model_selection import train_test_split\n",
    "from sklearn.model_selection import validation_curve\n",
    "from sklearn.model_selection import learning_curve\n",
    "from sklearn.svm import SVC\n",
    "%matplotlib inline"
   ]
  },
  {
   "cell_type": "markdown",
   "id": "147d3da7",
   "metadata": {},
   "source": [
    "### Reading the data"
   ]
  },
  {
   "cell_type": "code",
   "execution_count": 5,
   "id": "cc1a7587",
   "metadata": {},
   "outputs": [
    {
     "name": "stdout",
     "output_type": "stream",
     "text": [
      "Downloading data from https://storage.googleapis.com/tensorflow/tf-keras-datasets/mnist.npz\n",
      "11490434/11490434 [==============================] - 1s 0us/step\n"
     ]
    }
   ],
   "source": [
    "(train_ing,train_labels),(test_ing,test_labels) = datasets.mnist.load_data()"
   ]
  },
  {
   "cell_type": "markdown",
   "id": "fa5787a9",
   "metadata": {},
   "source": [
    "### Normalising the Image"
   ]
  },
  {
   "cell_type": "code",
   "execution_count": 6,
   "id": "a0324ec4",
   "metadata": {},
   "outputs": [],
   "source": [
    "train_ing,test_ing = train_ing/255.0, test_ing/255.0"
   ]
  },
  {
   "cell_type": "code",
   "execution_count": 7,
   "id": "d2cc15d8",
   "metadata": {},
   "outputs": [
    {
     "data": {
      "text/plain": [
       "60000"
      ]
     },
     "execution_count": 7,
     "metadata": {},
     "output_type": "execute_result"
    }
   ],
   "source": [
    "len(train_ing)"
   ]
  },
  {
   "cell_type": "code",
   "execution_count": 8,
   "id": "08d2ce35",
   "metadata": {},
   "outputs": [
    {
     "data": {
      "text/plain": [
       "10000"
      ]
     },
     "execution_count": 8,
     "metadata": {},
     "output_type": "execute_result"
    }
   ],
   "source": [
    "len(test_ing)"
   ]
  },
  {
   "cell_type": "markdown",
   "id": "346654ed",
   "metadata": {},
   "source": [
    "### Visualizing the Image"
   ]
  },
  {
   "cell_type": "code",
   "execution_count": 9,
   "id": "43cff1ef",
   "metadata": {},
   "outputs": [
    {
     "data": {
      "text/plain": [
       "<matplotlib.image.AxesImage at 0x18c24030250>"
      ]
     },
     "execution_count": 9,
     "metadata": {},
     "output_type": "execute_result"
    },
    {
     "data": {
      "image/png": "[encoded data removed]",
      "text/plain": [
       "<Figure size 432x288 with 1 Axes>"
      ]
     },
     "metadata": {
      "needs_background": "light"
     },
     "output_type": "display_data"
    }
   ],
   "source": [
    "plt.imshow(train_ing[0],cmap=plt.cm.gray_r,interpolation='nearest')"
   ]
  },
  {
   "cell_type": "code",
   "execution_count": 10,
   "id": "fe67dfc1",
   "metadata": {},
   "outputs": [
    {
     "data": {
      "text/plain": [
       "<matplotlib.image.AxesImage at 0x18c2411e970>"
      ]
     },
     "execution_count": 10,
     "metadata": {},
     "output_type": "execute_result"
    },
    {
     "data": {
      "image/png": "[encoded data removed]",
      "text/plain": [
       "<Figure size 432x288 with 1 Axes>"
      ]
     },
     "metadata": {
      "needs_background": "light"
     },
     "output_type": "display_data"
    }
   ],
   "source": [
    "plt.imshow(train_ing[100],cmap=plt.cm.gray_r,interpolation='nearest')"
   ]
  },
  {
   "cell_type": "code",
   "execution_count": 11,
   "id": "219aba4a",
   "metadata": {},
   "outputs": [
    {
     "data": {
      "text/plain": [
       "<matplotlib.image.AxesImage at 0x18c24191190>"
      ]
     },
     "execution_count": 11,
     "metadata": {},
     "output_type": "execute_result"
    },
    {
     "data": {
      "image/png": "[encoded data removed]",
      "text/plain": [
       "<Figure size 432x288 with 1 Axes>"
      ]
     },
     "metadata": {
      "needs_background": "light"
     },
     "output_type": "display_data"
    }
   ],
   "source": [
    "plt.imshow(train_ing[999],cmap=plt.cm.gray_r,interpolation='nearest')"
   ]
  },
  {
   "cell_type": "code",
   "execution_count": 12,
   "id": "9951974c",
   "metadata": {},
   "outputs": [
    {
     "data": {
      "text/plain": [
       "<matplotlib.image.AxesImage at 0x18c241f35e0>"
      ]
     },
     "execution_count": 12,
     "metadata": {},
     "output_type": "execute_result"
    },
    {
     "data": {
      "image/png": "[encoded data removed]",
      "text/plain": [
       "<Figure size 432x288 with 1 Axes>"
      ]
     },
     "metadata": {
      "needs_background": "light"
     },
     "output_type": "display_data"
    }
   ],
   "source": [
    "plt.imshow(train_ing[50000],cmap=plt.cm.gray_r,interpolation='nearest')"
   ]
  },
  {
   "cell_type": "code",
   "execution_count": 13,
   "id": "2816ca25",
   "metadata": {},
   "outputs": [
    {
     "data": {
      "image/png": "[encoded data removed]",
      "text/plain": [
       "<Figure size 720x720 with 25 Axes>"
      ]
     },
     "metadata": {},
     "output_type": "display_data"
    }
   ],
   "source": [
    "plt.figure(figsize=(10,10))\n",
    "for i in range(25):\n",
    "    plt.subplot(5,5,i+1)\n",
    "    plt.xticks([])\n",
    "    plt.yticks([])\n",
    "    plt.grid(False)\n",
    "    plt.imshow(train_ing[i],cmap=plt.cm.binary)\n",
    "plt.show()"
   ]
  },
  {
   "cell_type": "markdown",
   "id": "0b7b4dca",
   "metadata": {},
   "source": [
    "### Creating and training the model"
   ]
  },
  {
   "cell_type": "markdown",
   "id": "b80b31e6",
   "metadata": {},
   "source": [
    "#### Sequential model"
   ]
  },
  {
   "cell_type": "code",
   "execution_count": 14,
   "id": "4186c056",
   "metadata": {},
   "outputs": [],
   "source": [
    "model = tf.keras.models.Sequential([\n",
    "        tf.keras.layers.Flatten(input_shape=(28,28)),\n",
    "        tf.keras.layers.Dense(128,activation='relu'),\n",
    "        tf.keras.layers.Dense(10)\n",
    "])"
   ]
  },
  {
   "cell_type": "code",
   "execution_count": 15,
   "id": "a330d9e5",
   "metadata": {},
   "outputs": [],
   "source": [
    "model.compile(\n",
    "      optimizer=tf.keras.optimizers.Adam(0.001),\n",
    "      loss=tf.keras.losses.SparseCategoricalCrossentropy(from_logits=True),\n",
    "      metrics=[tf.keras.metrics.SparseCategoricalAccuracy()]\n",
    ")"
   ]
  },
  {
   "cell_type": "code",
   "execution_count": 16,
   "id": "4039d8cd",
   "metadata": {},
   "outputs": [
    {
     "name": "stdout",
     "output_type": "stream",
     "text": [
      "Epoch 1/10\n",
      "1875/1875 [==============================] - 2s 1ms/step - loss: 0.2563 - sparse_categorical_accuracy: 0.9262 - val_loss: 0.1363 - val_sparse_categorical_accuracy: 0.9584\n",
      "Epoch 2/10\n",
      "1875/1875 [==============================] - 2s 1ms/step - loss: 0.1141 - sparse_categorical_accuracy: 0.9659 - val_loss: 0.0980 - val_sparse_categorical_accuracy: 0.9686\n",
      "Epoch 3/10\n",
      "1875/1875 [==============================] - 2s 1ms/step - loss: 0.0777 - sparse_categorical_accuracy: 0.9768 - val_loss: 0.0836 - val_sparse_categorical_accuracy: 0.9739\n",
      "Epoch 4/10\n",
      "1875/1875 [==============================] - 2s 1ms/step - loss: 0.0569 - sparse_categorical_accuracy: 0.9825 - val_loss: 0.0742 - val_sparse_categorical_accuracy: 0.9776\n",
      "Epoch 5/10\n",
      "1875/1875 [==============================] - 2s 1ms/step - loss: 0.0442 - sparse_categorical_accuracy: 0.9863 - val_loss: 0.0720 - val_sparse_categorical_accuracy: 0.9779\n",
      "Epoch 6/10\n",
      "1875/1875 [==============================] - 2s 1ms/step - loss: 0.0352 - sparse_categorical_accuracy: 0.9893 - val_loss: 0.0706 - val_sparse_categorical_accuracy: 0.9767\n",
      "Epoch 7/10\n",
      "1875/1875 [==============================] - 2s 1ms/step - loss: 0.0273 - sparse_categorical_accuracy: 0.9913 - val_loss: 0.0741 - val_sparse_categorical_accuracy: 0.9790\n",
      "Epoch 8/10\n",
      "1875/1875 [==============================] - 2s 1ms/step - loss: 0.0218 - sparse_categorical_accuracy: 0.9933 - val_loss: 0.0795 - val_sparse_categorical_accuracy: 0.9784\n",
      "Epoch 9/10\n",
      "1875/1875 [==============================] - 2s 1ms/step - loss: 0.0179 - sparse_categorical_accuracy: 0.9944 - val_loss: 0.0732 - val_sparse_categorical_accuracy: 0.9801\n",
      "Epoch 10/10\n",
      "1875/1875 [==============================] - 2s 1ms/step - loss: 0.0156 - sparse_categorical_accuracy: 0.9952 - val_loss: 0.0777 - val_sparse_categorical_accuracy: 0.9789\n"
     ]
    },
    {
     "data": {
      "text/plain": [
       "<keras.callbacks.History at 0x18c249e0af0>"
      ]
     },
     "execution_count": 16,
     "metadata": {},
     "output_type": "execute_result"
    }
   ],
   "source": [
    "model.fit(\n",
    "        train_ing,train_labels,\n",
    "        epochs=10,\n",
    "        validation_data=(test_ing,test_labels)\n",
    ")"
   ]
  },
  {
   "cell_type": "markdown",
   "id": "9a5ea73e",
   "metadata": {},
   "source": [
    "#### Model Summary"
   ]
  },
  {
   "cell_type": "code",
   "execution_count": 17,
   "id": "2b8f24c0",
   "metadata": {},
   "outputs": [
    {
     "name": "stdout",
     "output_type": "stream",
     "text": [
      "Model: \"sequential\"\n",
      "_________________________________________________________________\n",
      " Layer (type)                Output Shape              Param #   \n",
      "=================================================================\n",
      " flatten (Flatten)           (None, 784)               0         \n",
      "                                                                 \n",
      " dense (Dense)               (None, 128)               100480    \n",
      "                                                                 \n",
      " dense_1 (Dense)             (None, 10)                1290      \n",
      "                                                                 \n",
      "=================================================================\n",
      "Total params: 101,770\n",
      "Trainable params: 101,770\n",
      "Non-trainable params: 0\n",
      "_________________________________________________________________\n"
     ]
    }
   ],
   "source": [
    "model.summary()"
   ]
  },
  {
   "cell_type": "markdown",
   "id": "ddea3e24",
   "metadata": {},
   "source": [
    "#### Flatten"
   ]
  },
  {
   "cell_type": "code",
   "execution_count": 18,
   "id": "705d4bc6",
   "metadata": {},
   "outputs": [],
   "source": [
    "model.add(layers.Flatten())"
   ]
  },
  {
   "cell_type": "markdown",
   "id": "4e69a735",
   "metadata": {},
   "source": [
    "#### Adding Dense Layer"
   ]
  },
  {
   "cell_type": "code",
   "execution_count": 19,
   "id": "35a7a19c",
   "metadata": {},
   "outputs": [],
   "source": [
    "model.add(layers.Dense(64,activation='relu'))\n",
    "model.add(layers.Dense(10))"
   ]
  },
  {
   "cell_type": "markdown",
   "id": "fc27fa9c",
   "metadata": {},
   "source": [
    "#### Train the Model"
   ]
  },
  {
   "cell_type": "code",
   "execution_count": 20,
   "id": "617fb77a",
   "metadata": {},
   "outputs": [
    {
     "name": "stdout",
     "output_type": "stream",
     "text": [
      "Epoch 1/12\n",
      "1875/1875 [==============================] - 2s 1ms/step - loss: 0.0133 - sparse_categorical_accuracy: 0.9958 - val_loss: 0.0816 - val_sparse_categorical_accuracy: 0.9782\n",
      "Epoch 2/12\n",
      "1875/1875 [==============================] - 2s 1ms/step - loss: 0.0109 - sparse_categorical_accuracy: 0.9966 - val_loss: 0.0875 - val_sparse_categorical_accuracy: 0.9778\n",
      "Epoch 3/12\n",
      "1875/1875 [==============================] - 2s 1ms/step - loss: 0.0098 - sparse_categorical_accuracy: 0.9970 - val_loss: 0.0861 - val_sparse_categorical_accuracy: 0.9797\n",
      "Epoch 4/12\n",
      "1875/1875 [==============================] - 2s 1ms/step - loss: 0.0081 - sparse_categorical_accuracy: 0.9976 - val_loss: 0.0851 - val_sparse_categorical_accuracy: 0.9795\n",
      "Epoch 5/12\n",
      "1875/1875 [==============================] - 2s 1ms/step - loss: 0.0102 - sparse_categorical_accuracy: 0.9967 - val_loss: 0.0892 - val_sparse_categorical_accuracy: 0.9787\n",
      "Epoch 6/12\n",
      "1875/1875 [==============================] - 2s 1ms/step - loss: 0.0060 - sparse_categorical_accuracy: 0.9979 - val_loss: 0.1018 - val_sparse_categorical_accuracy: 0.9792\n",
      "Epoch 7/12\n",
      "1875/1875 [==============================] - 2s 1ms/step - loss: 0.0067 - sparse_categorical_accuracy: 0.9979 - val_loss: 0.1035 - val_sparse_categorical_accuracy: 0.9768\n",
      "Epoch 8/12\n",
      "1875/1875 [==============================] - 2s 1ms/step - loss: 0.0057 - sparse_categorical_accuracy: 0.9984 - val_loss: 0.0973 - val_sparse_categorical_accuracy: 0.9783\n",
      "Epoch 9/12\n",
      "1875/1875 [==============================] - 2s 1ms/step - loss: 0.0059 - sparse_categorical_accuracy: 0.9982 - val_loss: 0.1222 - val_sparse_categorical_accuracy: 0.9777\n",
      "Epoch 10/12\n",
      "1875/1875 [==============================] - 2s 1ms/step - loss: 0.0061 - sparse_categorical_accuracy: 0.9981 - val_loss: 0.1116 - val_sparse_categorical_accuracy: 0.9785\n",
      "Epoch 11/12\n",
      "1875/1875 [==============================] - 2s 1ms/step - loss: 0.0047 - sparse_categorical_accuracy: 0.9987 - val_loss: 0.1056 - val_sparse_categorical_accuracy: 0.9784\n",
      "Epoch 12/12\n",
      "1875/1875 [==============================] - 2s 1ms/step - loss: 0.0048 - sparse_categorical_accuracy: 0.9985 - val_loss: 0.1013 - val_sparse_categorical_accuracy: 0.9808\n"
     ]
    },
    {
     "data": {
      "text/plain": [
       "<keras.callbacks.History at 0x18c25efb9d0>"
      ]
     },
     "execution_count": 20,
     "metadata": {},
     "output_type": "execute_result"
    }
   ],
   "source": [
    "model.fit(train_ing,train_labels,epochs=12,validation_data=(test_ing,test_labels))"
   ]
  },
  {
   "cell_type": "markdown",
   "id": "c25e9aba",
   "metadata": {},
   "source": [
    "#### Model Summary"
   ]
  },
  {
   "cell_type": "code",
   "execution_count": 21,
   "id": "579c4a0a",
   "metadata": {},
   "outputs": [
    {
     "name": "stdout",
     "output_type": "stream",
     "text": [
      "Model: \"sequential\"\n",
      "_________________________________________________________________\n",
      " Layer (type)                Output Shape              Param #   \n",
      "=================================================================\n",
      " flatten (Flatten)           (None, 784)               0         \n",
      "                                                                 \n",
      " dense (Dense)               (None, 128)               100480    \n",
      "                                                                 \n",
      " dense_1 (Dense)             (None, 10)                1290      \n",
      "                                                                 \n",
      " flatten_1 (Flatten)         (None, 10)                0         \n",
      "                                                                 \n",
      " dense_2 (Dense)             (None, 64)                704       \n",
      "                                                                 \n",
      " dense_3 (Dense)             (None, 10)                650       \n",
      "                                                                 \n",
      "=================================================================\n",
      "Total params: 103,124\n",
      "Trainable params: 103,124\n",
      "Non-trainable params: 0\n",
      "_________________________________________________________________\n"
     ]
    }
   ],
   "source": [
    "model.summary()"
   ]
  }
 ],
 "metadata": {
  "kernelspec": {
   "display_name": "Python 3 (ipykernel)",
   "language": "python",
   "name": "python3"
  },
  "language_info": {
   "codemirror_mode": {
    "name": "ipython",
    "version": 3
   },
   "file_extension": ".py",
   "mimetype": "text/x-python",
   "name": "python",
   "nbconvert_exporter": "python",
   "pygments_lexer": "ipython3",
   "version": "3.9.7"
  }
 },
 "nbformat": 4,
 "nbformat_minor": 5
}
